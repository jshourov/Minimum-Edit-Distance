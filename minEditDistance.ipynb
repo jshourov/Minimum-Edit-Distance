{
 "cells": [
  {
   "cell_type": "code",
   "execution_count": 1,
   "metadata": {},
   "outputs": [],
   "source": [
    "import numpy as np\n",
    "\n",
    "ins_cost = 1\n",
    "del_cost = 1\n",
    "sub_cost = 2\n",
    "\n",
    "def MinimumEditDistance (source , target):\n",
    "    n=len(source)\n",
    "    m=len(target)\n",
    "    \n",
    "    matrix = np.zeros((n+1,m+1), dtype='int32')\n",
    "    for i in range(1,n+1):\n",
    "        matrix[i][0]= matrix[i-1][0] + 1\n",
    "    \n",
    "    for j in range(1,m+1):\n",
    "        matrix[0][j] =matrix[0][j-1] + 1\n",
    "        \n",
    "    for i in range(1,n+1):\n",
    "        for j in range(1,m+1):\n",
    "            if ( source[i-1] == target[j-1]):\n",
    "                matrix[i][j] = min(matrix[i-1][j]+1, matrix[i-1][j-1]+0, matrix[i][j-1]+1)\n",
    "            else:\n",
    "                matrix[i][j] = min(matrix[i-1][j]+1, matrix[i-1][j-1]+2, matrix[i][j-1]+1)\n",
    "        \n",
    "    return matrix[n][m]\n",
    "                "
   ]
  },
  {
   "cell_type": "code",
   "execution_count": 2,
   "metadata": {},
   "outputs": [
    {
     "data": {
      "text/plain": [
       "8"
      ]
     },
     "execution_count": 2,
     "metadata": {},
     "output_type": "execute_result"
    }
   ],
   "source": [
    "MinimumEditDistance('intention', 'execution')"
   ]
  },
  {
   "cell_type": "code",
   "execution_count": 3,
   "metadata": {},
   "outputs": [
    {
     "data": {
      "text/plain": [
       "6"
      ]
     },
     "execution_count": 3,
     "metadata": {},
     "output_type": "execute_result"
    }
   ],
   "source": [
    "MinimumEditDistance('This is a cat','This is a dog')"
   ]
  },
  {
   "cell_type": "code",
   "execution_count": null,
   "metadata": {},
   "outputs": [],
   "source": []
  }
 ],
 "metadata": {
  "kernelspec": {
   "display_name": "Python 3",
   "language": "python",
   "name": "python3"
  },
  "language_info": {
   "codemirror_mode": {
    "name": "ipython",
    "version": 3
   },
   "file_extension": ".py",
   "mimetype": "text/x-python",
   "name": "python",
   "nbconvert_exporter": "python",
   "pygments_lexer": "ipython3",
   "version": "3.8.5"
  }
 },
 "nbformat": 4,
 "nbformat_minor": 4
}
